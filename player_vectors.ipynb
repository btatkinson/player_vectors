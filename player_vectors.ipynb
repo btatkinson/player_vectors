{
 "cells": [
  {
   "cell_type": "code",
   "execution_count": 1,
   "metadata": {},
   "outputs": [
    {
     "data": {
      "text/plain": [
       "0"
      ]
     },
     "execution_count": 1,
     "metadata": {},
     "output_type": "execute_result"
    }
   ],
   "source": [
    "import pandas as pd\n",
    "import numpy as np\n",
    "\n",
    "import gc\n",
    "gc.collect()\n"
   ]
  },
  {
   "cell_type": "markdown",
   "metadata": {},
   "source": [
    "### Load all seasons"
   ]
  },
  {
   "cell_type": "code",
   "execution_count": 2,
   "metadata": {},
   "outputs": [
    {
     "name": "stderr",
     "output_type": "stream",
     "text": [
      "/usr/local/lib/python3.7/site-packages/IPython/core/interactiveshell.py:3049: DtypeWarning: Columns (42,166,167,174,175,178,179,182,183,188,189,190,191,203,204,205,231,232,233,238,240,241) have mixed types. Specify dtype option on import or set low_memory=False.\n",
      "  interactivity=interactivity, compiler=compiler, result=result)\n",
      "/usr/local/lib/python3.7/site-packages/IPython/core/interactiveshell.py:3049: DtypeWarning: Columns (166,167,168,169,174,175,178,179,182,183,188,189,190,191,194,195,203,204,205,218,219,220,231,232,233,238,240,241,249) have mixed types. Specify dtype option on import or set low_memory=False.\n",
      "  interactivity=interactivity, compiler=compiler, result=result)\n",
      "/usr/local/lib/python3.7/site-packages/IPython/core/interactiveshell.py:3049: DtypeWarning: Columns (37,38,39,42,46,47,166,167,168,169,172,173,174,175,176,177,178,179,182,183,184,185,188,189,190,191,192,193,194,195,198,199,203,204,205,224,225,226,227,231,232,233,238,240,241,244,245,246,250) have mixed types. Specify dtype option on import or set low_memory=False.\n",
      "  interactivity=interactivity, compiler=compiler, result=result)\n",
      "/usr/local/lib/python3.7/site-packages/IPython/core/interactiveshell.py:3049: DtypeWarning: Columns (166,167,168,169,174,175,178,179,182,183,188,189,190,191,198,199,200,201,202,203,204,205,207,209,211,226,227,231,232,233,238,240,241) have mixed types. Specify dtype option on import or set low_memory=False.\n",
      "  interactivity=interactivity, compiler=compiler, result=result)\n",
      "/usr/local/lib/python3.7/site-packages/IPython/core/interactiveshell.py:3049: DtypeWarning: Columns (166,167,168,169,178,179,182,183,188,189,190,191,194,195,198,199,203,204,205,226,227,231,232,233,238,240,241) have mixed types. Specify dtype option on import or set low_memory=False.\n",
      "  interactivity=interactivity, compiler=compiler, result=result)\n",
      "/usr/local/lib/python3.7/site-packages/IPython/core/interactiveshell.py:3049: DtypeWarning: Columns (42,166,167,168,169,174,175,178,179,182,183,188,189,190,191,203,204,205,231,232,233,238,240,241) have mixed types. Specify dtype option on import or set low_memory=False.\n",
      "  interactivity=interactivity, compiler=compiler, result=result)\n",
      "/usr/local/lib/python3.7/site-packages/IPython/core/interactiveshell.py:3049: DtypeWarning: Columns (42,166,167,174,175,178,179,182,183,188,189,203,204,205,231,232,233,238,240,241) have mixed types. Specify dtype option on import or set low_memory=False.\n",
      "  interactivity=interactivity, compiler=compiler, result=result)\n",
      "/usr/local/lib/python3.7/site-packages/IPython/core/interactiveshell.py:3049: DtypeWarning: Columns (167,168,169,170,175,176,179,180,183,184,189,190,191,192,195,196,199,200,204,205,206,227,228,232,233,234,239,241,242) have mixed types. Specify dtype option on import or set low_memory=False.\n",
      "  interactivity=interactivity, compiler=compiler, result=result)\n",
      "/usr/local/lib/python3.7/site-packages/ipykernel_launcher.py:9: FutureWarning: Sorting because non-concatenation axis is not aligned. A future version\n",
      "of pandas will change to not sort by default.\n",
      "\n",
      "To accept the future behavior, pass 'sort=False'.\n",
      "\n",
      "To retain the current behavior and silence the warning, pass 'sort=True'.\n",
      "\n",
      "  if __name__ == '__main__':\n",
      "/usr/local/lib/python3.7/site-packages/IPython/core/interactiveshell.py:3049: DtypeWarning: Columns (42,167,168,169,170,175,176,179,180,183,184,189,190,191,192,199,200,204,205,206,227,228,232,233,234,239,241,242,250) have mixed types. Specify dtype option on import or set low_memory=False.\n",
      "  interactivity=interactivity, compiler=compiler, result=result)\n",
      "/usr/local/lib/python3.7/site-packages/IPython/core/interactiveshell.py:3049: DtypeWarning: Columns (42,167,168,169,170,179,180,183,184,189,190,191,192,199,200,201,202,203,204,205,206,208,210,212,227,228,229,230,231,232,233,234,235,237,238,239,241,242,250) have mixed types. Specify dtype option on import or set low_memory=False.\n",
      "  interactivity=interactivity, compiler=compiler, result=result)\n"
     ]
    }
   ],
   "source": [
    "seasons = list(range(2009,2019)) # creates list of years through 2018\n",
    "\n",
    "# merge seasons into one df\n",
    "df = pd.DataFrame()\n",
    "for season in seasons:\n",
    "    path = './../data/nflscrapR-data/play_by_play_data/regular_season/reg_pbp_'+str(season)+'.csv'\n",
    "    season_df = pd.read_csv(path)\n",
    "    season_df['season'] = season\n",
    "    df = pd.concat([df, season_df], axis=0)\n",
    "#     path = './../data/nflscrapR-data/play_by_play_data/post_season/post_pbp_'+str(season)+'.csv'\n",
    "#     post_season_df = pd.read_csv(path)\n",
    "#     post_season_df['season'] = season\n",
    "#     df = pd.concat([df, post_season_df], axis=0)"
   ]
  },
  {
   "cell_type": "markdown",
   "metadata": {},
   "source": [
    "### Data Preprocessing"
   ]
  },
  {
   "cell_type": "code",
   "execution_count": 99,
   "metadata": {},
   "outputs": [
    {
     "name": "stdout",
     "output_type": "stream",
     "text": [
      "362283\n",
      "362283\n"
     ]
    }
   ],
   "source": [
    "print(len(df))\n",
    "\n",
    "# standardize jaguars abbrev\n",
    "df['posteam']=df['posteam'].replace('JAC','JAX')\n",
    "\n",
    "# drop redzone plays & inside own 5\n",
    "df = df.loc[(df.yardline_100 > 20) & (df.yardline_100 < 95)]\n",
    "\n",
    "# drop extreme win probabilities (about 4% of plays)\n",
    "df = df.loc[(df['wp']>=0.05) | (df['wp']<=0.95)]\n",
    "\n",
    "# drop afc and nfc\n",
    "\n",
    "conf_teams = ['AFC','NFC','IRV','APR','NPR','RIC','SANS']\n",
    "df = df.loc[~df['posteam'].isin(conf_teams)]\n",
    "print(len(df))\n",
    "\n"
   ]
  },
  {
   "cell_type": "markdown",
   "metadata": {},
   "source": [
    "### Load Roster Data\n",
    "\n",
    "found here: https://github.com/btatkinson/pfr_scraper"
   ]
  },
  {
   "cell_type": "code",
   "execution_count": 102,
   "metadata": {},
   "outputs": [
    {
     "name": "stdout",
     "output_type": "stream",
     "text": [
      "   season posteam                       id   age    av  \\\n",
      "0    2009     PIT  2009PITB.Roethlisberger  27.0  14.0   \n",
      "1    2009     TEN         2009TENK.Collins  37.0   2.0   \n",
      "2    2009     CLE           2009CLEB.Quinn  25.0   2.0   \n",
      "3    2009     MIN           2009MINB.Favre  40.0  16.0   \n",
      "4    2009      NO            2009NOD.Brees  30.0  16.0   \n",
      "\n",
      "                                      draft   exp  height                name  \\\n",
      "0  Pittsburgh Steelers / 1st / 11th pick /    5.0    77.0  Ben Roethlisberger   \n",
      "1     Carolina Panthers / 1st / 5th pick /   14.0    77.0       Kerry Collins   \n",
      "2     Cleveland Browns / 1st / 22nd pick /    2.0    76.0         Brady Quinn   \n",
      "3      Atlanta Falcons / 2nd / 33rd pick /   18.0    74.0         Brett Favre   \n",
      "4   San Diego Chargers / 2nd / 32nd pick /    8.0    72.0          Drew Brees   \n",
      "\n",
      "  pos salary        short_name team  weight   player_id  \n",
      "0  QB    NaN  B.Roethlisberger  PIT   240.0  00-0022924  \n",
      "1  QB    NaN         K.Collins  TEN   247.0  00-0003292  \n",
      "2  QB    NaN           B.Quinn  CLE   232.0  00-0025409  \n",
      "3  QB    NaN           B.Favre  MIN   222.0  00-0005106  \n",
      "4  QB    NaN           D.Brees   NO   209.0  00-0020531  \n"
     ]
    }
   ],
   "source": [
    "path = './../data/roster/roster_info.csv'\n",
    "roster = pd.read_csv(path)\n",
    "print(roster.head())\n",
    "roster['sea_id'] = roster['season'].astype(str)+roster['player_id']"
   ]
  },
  {
   "cell_type": "markdown",
   "metadata": {},
   "source": [
    "### QB heatmap"
   ]
  },
  {
   "cell_type": "code",
   "execution_count": 104,
   "metadata": {},
   "outputs": [
    {
     "name": "stdout",
     "output_type": "stream",
     "text": [
      "362283\n",
      "175442\n"
     ]
    },
    {
     "name": "stderr",
     "output_type": "stream",
     "text": [
      "/usr/local/lib/python3.7/site-packages/ipykernel_launcher.py:25: SettingWithCopyWarning: \n",
      "A value is trying to be set on a copy of a slice from a DataFrame.\n",
      "Try using .loc[row_indexer,col_indexer] = value instead\n",
      "\n",
      "See the caveats in the documentation: http://pandas.pydata.org/pandas-docs/stable/indexing.html#indexing-view-versus-copy\n",
      "/usr/local/lib/python3.7/site-packages/ipykernel_launcher.py:26: SettingWithCopyWarning: \n",
      "A value is trying to be set on a copy of a slice from a DataFrame.\n",
      "Try using .loc[row_indexer,col_indexer] = value instead\n",
      "\n",
      "See the caveats in the documentation: http://pandas.pydata.org/pandas-docs/stable/indexing.html#indexing-view-versus-copy\n"
     ]
    },
    {
     "name": "stdout",
     "output_type": "stream",
     "text": [
      "(9731, 179)\n",
      "(161204, 179)\n"
     ]
    }
   ],
   "source": [
    "qbs = df.copy()\n",
    "\n",
    "# drop unnecessary columns\n",
    "qbs = qbs.drop(columns=['assist_tackle', 'assist_tackle_1_player_id', 'assist_tackle_1_player_name', 'assist_tackle_1_team', 'assist_tackle_2_player_id', 'assist_tackle_2_player_name', 'assist_tackle_2_team', 'assist_tackle_3_player_id', 'assist_tackle_3_player_name', 'assist_tackle_3_team', 'assist_tackle_4_player_id', 'assist_tackle_4_player_name', 'assist_tackle_4_team',\n",
    "                       'kick_distance', 'kicker_player_id', 'kicker_player_name', 'kickoff_attempt', 'kickoff_downed', 'kickoff_fair_catch', 'kickoff_in_endzone', 'kickoff_inside_twenty', 'kickoff_out_of_bounds', 'kickoff_returner_player_id', 'kickoff_returner_player_name', 'lateral_interception_player_id', 'lateral_interception_player_name', 'lateral_kickoff_returner_player_id', \n",
    "                        'lateral_kickoff_returner_player_name', 'lateral_punt_returner_player_id', 'lateral_punt_returner_player_name', 'lateral_receiver_player_id', 'lateral_receiver_player_name', 'lateral_reception', 'lateral_recovery', 'lateral_return', 'lateral_rush', 'lateral_rusher_player_id', 'lateral_rusher_player_name', 'lateral_sack_player_id', 'lateral_sack_player_name',\n",
    "                         'own_kickoff_recovery','own_kickoff_recovery_player_id','own_kickoff_recovery_player_name','own_kickoff_recovery_td','solo_tackle', 'solo_tackle_1_player_id', 'solo_tackle_1_player_name', 'solo_tackle_1_team', 'solo_tackle_2_player_id', 'solo_tackle_2_player_name', 'solo_tackle_2_team','punt_attempt', 'punt_blocked', 'punt_downed', 'punt_fair_catch', 'punt_in_endzone', \n",
    "                        'punt_inside_twenty', 'punt_out_of_bounds', 'punt_returner_player_id', 'punt_returner_player_name', 'punter_player_id', 'punter_player_name','total_away_comp_air_epa', 'total_away_comp_air_wpa', 'total_away_comp_yac_epa', 'total_away_comp_yac_wpa', 'total_away_epa', 'total_away_pass_epa', 'total_away_pass_wpa', 'total_away_raw_air_epa', 'total_away_raw_air_wpa', 'total_away_raw_yac_epa', \n",
    "                        'total_away_raw_yac_wpa', 'total_away_rush_epa', 'total_away_rush_wpa', 'total_away_score', 'total_home_comp_air_epa', 'total_home_comp_air_wpa', 'total_home_comp_yac_epa', 'total_home_comp_yac_wpa', 'total_home_epa', 'total_home_pass_epa', 'total_home_pass_wpa', 'total_home_raw_air_epa', 'total_home_raw_air_wpa', 'total_home_raw_yac_epa', 'total_home_raw_yac_wpa', 'total_home_rush_epa', \n",
    "                        'total_home_rush_wpa', 'total_home_score', 'touchback', 'two_point_attempt', 'two_point_conv_result'])\n",
    "\n",
    "qb_ids = roster.loc[roster.pos=='QB']\n",
    "qb_ids = list(qb_ids.player_id.values)\n",
    "\n",
    "print(len(qbs))\n",
    "qbs = qbs.loc[(qbs['passer_player_id'].isin(qb_ids)) | qbs['rusher_player_id'].isin(qb_ids)]\n",
    "print(len(qbs))\n",
    "\n",
    "\n",
    "qbs['season'] = qbs['season'].astype(str)\n",
    "\n",
    "qb_rushes = qbs.loc[qbs.play_type=='run']\n",
    "qb_passes = qbs.loc[qbs.play_type=='pass']\n",
    "\n",
    "qb_rushes['id'] = qb_rushes['season'] + qb_rushes['posteam'] + qb_rushes['rusher_player_name']\n",
    "qb_passes['id'] = qb_passes['season'] + qb_passes['posteam'] + qb_passes['passer_player_name']\n",
    "\n",
    "\n",
    "\n"
   ]
  },
  {
   "cell_type": "code",
   "execution_count": 105,
   "metadata": {},
   "outputs": [
    {
     "name": "stdout",
     "output_type": "stream",
     "text": [
      "(151749, 179)\n",
      "(9250, 179)\n"
     ]
    }
   ],
   "source": [
    "# only take QBs that matched roster ids. About 94% of pass plays\n",
    "qb_passes = qb_passes.loc[qb_passes['player_id']==qb_passes['passer_player_id']]\n",
    "qb_rushes = qb_rushes.loc[qb_rushes['player_id']==qb_rushes['rusher_player_id']]\n",
    "print(qb_passes.shape)\n",
    "print(qb_rushes.shape)"
   ]
  },
  {
   "cell_type": "code",
   "execution_count": 106,
   "metadata": {},
   "outputs": [],
   "source": [
    "qb_passes['sea_id'] = qb_passes['season_x'].astype(str) + qb_passes['passer_player_id']\n",
    "qb_rushes['sea_id'] = qb_rushes['season_x'].astype(str) + qb_rushes['rusher_player_id']"
   ]
  },
  {
   "cell_type": "code",
   "execution_count": 107,
   "metadata": {},
   "outputs": [
    {
     "name": "stdout",
     "output_type": "stream",
     "text": [
      "388 Quarterbacks meet the criteria\n"
     ]
    }
   ],
   "source": [
    "# only take qbs with at least 3 rushes and 100 passes\n",
    "gb = qb_rushes.groupby(['sea_id'])['epa'].count()\n",
    "gb = gb.loc[gb >= 3].reset_index()\n",
    "run_ids = list(gb['sea_id'].unique())\n",
    "\n",
    "gb = qb_passes.groupby(['sea_id'])['epa'].count()\n",
    "gb = gb.loc[gb >= 100].reset_index()\n",
    "pass_ids = list(gb['sea_id'].unique())\n",
    "\n",
    "qb_ids = []\n",
    "for pid in pass_ids:\n",
    "    if pid in run_ids:\n",
    "        qb_ids.append(pid)\n",
    "\n",
    "print(str(len(qb_ids)) + \" Quarterbacks meet the criteria\")"
   ]
  },
  {
   "cell_type": "code",
   "execution_count": 120,
   "metadata": {},
   "outputs": [],
   "source": [
    "def explosiveness(x):\n",
    "    # (Warning: O(n**2) in time and memory, where n = len(x).  *Don't* pass in huge samples!)\n",
    "    \n",
    "    # Mean absolute difference\n",
    "    mad = np.abs(np.subtract.outer(x, x)).mean()\n",
    "    # Relative mean absolute difference\n",
    "    mean = np.mean(x)\n",
    "    \n",
    "    if mean == 0:\n",
    "        return 0\n",
    "    rmad = mad/mean\n",
    "    # Gini coefficient\n",
    "    g = 0.5 * rmad\n",
    "    return g"
   ]
  },
  {
   "cell_type": "code",
   "execution_count": 109,
   "metadata": {},
   "outputs": [
    {
     "name": "stdout",
     "output_type": "stream",
     "text": [
      "           sea_id  game_id\n",
      "0  200900-0003292        7\n",
      "1  200900-0003739        8\n",
      "2  200900-0004161       11\n",
      "3  200900-0005106       16\n",
      "4  200900-0007091       14\n"
     ]
    }
   ],
   "source": [
    "# get game count\n",
    "gc = qb_passes.groupby(['sea_id'])['game_id'].nunique()\n",
    "\n",
    "# only use qbs with over 5 games\n",
    "\n",
    "gc = gc.loc[gc > 5]\n",
    "gc = gc.reset_index()\n",
    "print(gc.head())\n",
    "\n",
    "qb_passes = qb_passes.loc[qb_passes['sea_id'].isin(list(gc.sea_id.values))]\n",
    "qb_rushes = qb_rushes.loc[qb_rushes['sea_id'].isin(list(gc.sea_id.values))]"
   ]
  },
  {
   "cell_type": "code",
   "execution_count": 110,
   "metadata": {},
   "outputs": [
    {
     "name": "stdout",
     "output_type": "stream",
     "text": [
      "             sea_id       YPC\n",
      "367  201800-0034343  9.062500\n",
      "368  201800-0034796  5.910891\n",
      "369  201800-0034855  5.904762\n",
      "370  201800-0034857  8.741935\n",
      "371  201800-0034869  4.961538\n",
      "             sea_id       wpa\n",
      "367  201800-0034343  0.100573\n",
      "368  201800-0034796  0.405059\n",
      "369  201800-0034855  0.292732\n",
      "370  201800-0034857  1.094757\n",
      "371  201800-0034869 -0.057479\n",
      "             sea_id  Att\n",
      "367  201800-0034343   16\n",
      "368  201800-0034796  101\n",
      "369  201800-0034855   21\n",
      "370  201800-0034857   62\n",
      "371  201800-0034869   26\n",
      "             sea_id   Run_Exp\n",
      "367  201800-0034343  0.471983\n",
      "368  201800-0034796  0.580560\n",
      "369  201800-0034855  0.640553\n",
      "370  201800-0034857  0.543983\n",
      "371  201800-0034869  0.547108\n"
     ]
    }
   ],
   "source": [
    "# yards per rush\n",
    "ypc = qb_rushes.groupby(['sea_id'])['yards_gained'].mean().reset_index()\n",
    "ypc = ypc.rename(columns={'yards_gained':'YPC'})\n",
    "print(ypc.tail(5))\n",
    "\n",
    "# win probability added on rushes (will do per game later)\n",
    "wpa = qb_rushes.groupby(['sea_id'])['wpa'].sum().reset_index()\n",
    "print(wpa.tail(5))\n",
    "\n",
    "# attempts (will do per game later)\n",
    "att = qb_rushes.groupby(['sea_id'])['yards_gained'].count().reset_index()\n",
    "att = att.rename(columns={'yards_gained':'Att'})\n",
    "print(att.tail(5))\n",
    "\n",
    "# run explosiveness\n",
    "rexp = qb_rushes.groupby(['sea_id'])['yards_gained'].apply(explosiveness).reset_index()\n",
    "rexp = rexp.rename(columns={'yards_gained':'Run_Exp'})\n",
    "print(rexp.tail(5))"
   ]
  },
  {
   "cell_type": "code",
   "execution_count": 111,
   "metadata": {},
   "outputs": [],
   "source": [
    "# merge in stats\n",
    "qb_run_dfs = [ypc,wpa,att,rexp]\n",
    "for rdf in qb_run_dfs:\n",
    "    gc = pd.merge(how='left',left=gc,right=rdf,on=['sea_id'])"
   ]
  },
  {
   "cell_type": "code",
   "execution_count": 112,
   "metadata": {},
   "outputs": [],
   "source": [
    "gc['Run Att/G'] = gc['Att']/gc['game_id']\n",
    "gc['Run WPA/G'] = gc['wpa']/gc['game_id']\n",
    "\n",
    "gc = gc.drop(columns=['Att','wpa'])"
   ]
  },
  {
   "cell_type": "code",
   "execution_count": 113,
   "metadata": {},
   "outputs": [
    {
     "name": "stdout",
     "output_type": "stream",
     "text": [
      "['air_epa', 'air_wpa', 'air_yards', 'away_team', 'away_timeouts_remaining', 'away_wp', 'away_wp_post', 'blocked_player_id', 'blocked_player_name', 'comp_air_epa', 'comp_air_wpa', 'comp_yac_epa', 'comp_yac_wpa', 'complete_pass', 'def_wp', 'defensive_extra_point_attempt', 'defensive_extra_point_conv', 'defensive_two_point_attempt', 'defensive_two_point_conv', 'defteam', 'defteam_score', 'defteam_score_post', 'defteam_timeouts_remaining', 'desc', 'down', 'drive', 'ep', 'epa', 'extra_point_attempt', 'extra_point_prob', 'extra_point_result', 'fg_prob', 'field_goal_attempt', 'field_goal_result', 'first_down_pass', 'first_down_penalty', 'first_down_rush', 'forced_fumble_player_1_player_id', 'forced_fumble_player_1_player_name', 'forced_fumble_player_1_team', 'forced_fumble_player_2_player_id', 'forced_fumble_player_2_player_name', 'forced_fumble_player_2_team', 'fourth_down_converted', 'fourth_down_failed', 'fumble', 'fumble_forced', 'fumble_lost', 'fumble_not_forced', 'fumble_out_of_bounds', 'fumble_recovery_1_player_id', 'fumble_recovery_1_player_name', 'fumble_recovery_1_team', 'fumble_recovery_1_yards', 'fumble_recovery_2_player_id', 'fumble_recovery_2_player_name', 'fumble_recovery_2_team', 'fumble_recovery_2_yards', 'fumbled_1_player_id', 'fumbled_1_player_name', 'fumbled_1_team', 'fumbled_2_player_id', 'fumbled_2_player_name', 'fumbled_2_team', 'game_date', 'game_half', 'game_id', 'game_seconds_remaining', 'goal_to_go', 'half_seconds_remaining', 'home_team', 'home_timeouts_remaining', 'home_wp', 'home_wp_post', 'incomplete_pass', 'interception', 'interception_player_id', 'interception_player_name', 'no_huddle', 'no_score_prob', 'opp_fg_prob', 'opp_safety_prob', 'opp_td_prob', 'pass_attempt', 'pass_defense_1_player_id', 'pass_defense_1_player_name', 'pass_defense_2_player_id', 'pass_defense_2_player_name', 'pass_length', 'pass_location', 'pass_touchdown', 'passer_player_id', 'passer_player_name', 'penalty', 'penalty_player_id', 'penalty_player_name', 'penalty_team', 'penalty_type', 'penalty_yards', 'play_id', 'play_type', 'posteam_x', 'posteam_score', 'posteam_score_post', 'posteam_timeouts_remaining', 'posteam_type', 'qb_dropback', 'qb_hit', 'qb_hit_1_player_id', 'qb_hit_1_player_name', 'qb_hit_2_player_id', 'qb_hit_2_player_name', 'qb_kneel', 'qb_scramble', 'qb_spike', 'qtr', 'quarter_end', 'quarter_seconds_remaining', 'receiver_player_id', 'receiver_player_name', 'replay_or_challenge', 'replay_or_challenge_result', 'return_team', 'return_touchdown', 'return_yards', 'run_gap', 'run_location', 'rush_attempt', 'rush_touchdown', 'rusher_player_id', 'rusher_player_name', 'sack', 'safety', 'safety_prob', 'score_differential', 'score_differential_post', 'season_x', 'shotgun', 'side_of_field', 'sp', 'tackle_for_loss_1_player_id', 'tackle_for_loss_1_player_name', 'tackle_for_loss_2_player_id', 'tackle_for_loss_2_player_name', 'tackled_for_loss', 'td_prob', 'td_team', 'third_down_converted', 'third_down_failed', 'time', 'timeout', 'timeout_team', 'touchdown', 'two_point_conversion_prob', 'wp', 'wpa', 'yac_epa', 'yac_wpa', 'yardline_100', 'yards_after_catch', 'yards_gained', 'ydsnet', 'ydstogo', 'yrdln', 'id', 'season_y', 'posteam_y', 'age', 'av', 'draft', 'exp', 'height', 'name', 'pos', 'salary', 'short_name', 'team', 'weight', 'player_id', 'sea_id']\n"
     ]
    }
   ],
   "source": [
    "print(list(qb_passes))"
   ]
  },
  {
   "cell_type": "code",
   "execution_count": 114,
   "metadata": {},
   "outputs": [],
   "source": [
    "def is_success(epa):\n",
    "    return 1 if epa >= 0 else 0\n",
    "\n",
    "# add success column\n",
    "qb_passes['success'] = qb_passes.apply(lambda row: is_success(row['epa']),axis=1)"
   ]
  },
  {
   "cell_type": "code",
   "execution_count": 128,
   "metadata": {},
   "outputs": [
    {
     "data": {
      "text/html": [
       "<div>\n",
       "<style scoped>\n",
       "    .dataframe tbody tr th:only-of-type {\n",
       "        vertical-align: middle;\n",
       "    }\n",
       "\n",
       "    .dataframe tbody tr th {\n",
       "        vertical-align: top;\n",
       "    }\n",
       "\n",
       "    .dataframe thead th {\n",
       "        text-align: right;\n",
       "    }\n",
       "</style>\n",
       "<table border=\"1\" class=\"dataframe\">\n",
       "  <thead>\n",
       "    <tr style=\"text-align: right;\">\n",
       "      <th></th>\n",
       "      <th>TD/D</th>\n",
       "      <th>INT/D</th>\n",
       "      <th>Comp/D</th>\n",
       "      <th>Hit/D</th>\n",
       "      <th>Sack/D</th>\n",
       "      <th>SR/D</th>\n",
       "      <th>EPA/DB</th>\n",
       "      <th>Avg_WP</th>\n",
       "    </tr>\n",
       "    <tr>\n",
       "      <th>sea_id</th>\n",
       "      <th></th>\n",
       "      <th></th>\n",
       "      <th></th>\n",
       "      <th></th>\n",
       "      <th></th>\n",
       "      <th></th>\n",
       "      <th></th>\n",
       "      <th></th>\n",
       "    </tr>\n",
       "  </thead>\n",
       "  <tbody>\n",
       "    <tr>\n",
       "      <th>201800-0031503</th>\n",
       "      <td>0.017241</td>\n",
       "      <td>0.031609</td>\n",
       "      <td>0.609195</td>\n",
       "      <td>0.149425</td>\n",
       "      <td>0.068966</td>\n",
       "      <td>0.500000</td>\n",
       "      <td>0.063832</td>\n",
       "      <td>0.443823</td>\n",
       "    </tr>\n",
       "    <tr>\n",
       "      <th>201800-0032268</th>\n",
       "      <td>0.012579</td>\n",
       "      <td>0.022013</td>\n",
       "      <td>0.628931</td>\n",
       "      <td>0.160377</td>\n",
       "      <td>0.119497</td>\n",
       "      <td>0.474843</td>\n",
       "      <td>0.032629</td>\n",
       "      <td>0.455222</td>\n",
       "    </tr>\n",
       "    <tr>\n",
       "      <th>201800-0032436</th>\n",
       "      <td>0.011834</td>\n",
       "      <td>0.011834</td>\n",
       "      <td>0.573964</td>\n",
       "      <td>0.165680</td>\n",
       "      <td>0.082840</td>\n",
       "      <td>0.372781</td>\n",
       "      <td>-0.104464</td>\n",
       "      <td>0.331076</td>\n",
       "    </tr>\n",
       "    <tr>\n",
       "      <th>201800-0032950</th>\n",
       "      <td>0.010899</td>\n",
       "      <td>0.016349</td>\n",
       "      <td>0.664850</td>\n",
       "      <td>0.174387</td>\n",
       "      <td>0.073569</td>\n",
       "      <td>0.509537</td>\n",
       "      <td>0.090963</td>\n",
       "      <td>0.477000</td>\n",
       "    </tr>\n",
       "    <tr>\n",
       "      <th>201800-0033077</th>\n",
       "      <td>0.022044</td>\n",
       "      <td>0.012024</td>\n",
       "      <td>0.635271</td>\n",
       "      <td>0.176353</td>\n",
       "      <td>0.094188</td>\n",
       "      <td>0.466934</td>\n",
       "      <td>0.078369</td>\n",
       "      <td>0.493865</td>\n",
       "    </tr>\n",
       "    <tr>\n",
       "      <th>201800-0033106</th>\n",
       "      <td>0.020704</td>\n",
       "      <td>0.020704</td>\n",
       "      <td>0.627329</td>\n",
       "      <td>0.118012</td>\n",
       "      <td>0.057971</td>\n",
       "      <td>0.538302</td>\n",
       "      <td>0.207121</td>\n",
       "      <td>0.546386</td>\n",
       "    </tr>\n",
       "    <tr>\n",
       "      <th>201800-0033319</th>\n",
       "      <td>0.024590</td>\n",
       "      <td>0.028689</td>\n",
       "      <td>0.618852</td>\n",
       "      <td>0.229508</td>\n",
       "      <td>0.057377</td>\n",
       "      <td>0.495902</td>\n",
       "      <td>0.181702</td>\n",
       "      <td>0.414823</td>\n",
       "    </tr>\n",
       "    <tr>\n",
       "      <th>201800-0033537</th>\n",
       "      <td>0.012848</td>\n",
       "      <td>0.019272</td>\n",
       "      <td>0.642398</td>\n",
       "      <td>0.216274</td>\n",
       "      <td>0.100642</td>\n",
       "      <td>0.498929</td>\n",
       "      <td>0.090199</td>\n",
       "      <td>0.543441</td>\n",
       "    </tr>\n",
       "    <tr>\n",
       "      <th>201800-0033869</th>\n",
       "      <td>0.015464</td>\n",
       "      <td>0.028351</td>\n",
       "      <td>0.636598</td>\n",
       "      <td>0.095361</td>\n",
       "      <td>0.054124</td>\n",
       "      <td>0.481959</td>\n",
       "      <td>0.067629</td>\n",
       "      <td>0.622450</td>\n",
       "    </tr>\n",
       "    <tr>\n",
       "      <th>201800-0033873</th>\n",
       "      <td>0.034908</td>\n",
       "      <td>0.020534</td>\n",
       "      <td>0.644764</td>\n",
       "      <td>0.154004</td>\n",
       "      <td>0.039014</td>\n",
       "      <td>0.533881</td>\n",
       "      <td>0.314948</td>\n",
       "      <td>0.629086</td>\n",
       "    </tr>\n",
       "    <tr>\n",
       "      <th>201800-0034343</th>\n",
       "      <td>0.020253</td>\n",
       "      <td>0.035443</td>\n",
       "      <td>0.503797</td>\n",
       "      <td>0.207595</td>\n",
       "      <td>0.113924</td>\n",
       "      <td>0.374684</td>\n",
       "      <td>-0.401759</td>\n",
       "      <td>0.311848</td>\n",
       "    </tr>\n",
       "    <tr>\n",
       "      <th>201800-0034796</th>\n",
       "      <td>0.019108</td>\n",
       "      <td>0.019108</td>\n",
       "      <td>0.573248</td>\n",
       "      <td>0.108280</td>\n",
       "      <td>0.076433</td>\n",
       "      <td>0.496815</td>\n",
       "      <td>-0.016901</td>\n",
       "      <td>0.577762</td>\n",
       "    </tr>\n",
       "    <tr>\n",
       "      <th>201800-0034855</th>\n",
       "      <td>0.020225</td>\n",
       "      <td>0.031461</td>\n",
       "      <td>0.604494</td>\n",
       "      <td>0.094382</td>\n",
       "      <td>0.051685</td>\n",
       "      <td>0.449438</td>\n",
       "      <td>-0.024426</td>\n",
       "      <td>0.396404</td>\n",
       "    </tr>\n",
       "    <tr>\n",
       "      <th>201800-0034857</th>\n",
       "      <td>0.022364</td>\n",
       "      <td>0.031949</td>\n",
       "      <td>0.498403</td>\n",
       "      <td>0.185304</td>\n",
       "      <td>0.079872</td>\n",
       "      <td>0.383387</td>\n",
       "      <td>-0.162522</td>\n",
       "      <td>0.383388</td>\n",
       "    </tr>\n",
       "    <tr>\n",
       "      <th>201800-0034869</th>\n",
       "      <td>0.025773</td>\n",
       "      <td>0.033505</td>\n",
       "      <td>0.548969</td>\n",
       "      <td>0.105670</td>\n",
       "      <td>0.067010</td>\n",
       "      <td>0.430412</td>\n",
       "      <td>-0.098381</td>\n",
       "      <td>0.364196</td>\n",
       "    </tr>\n",
       "  </tbody>\n",
       "</table>\n",
       "</div>"
      ],
      "text/plain": [
       "                    TD/D     INT/D    Comp/D     Hit/D    Sack/D      SR/D  \\\n",
       "sea_id                                                                       \n",
       "201800-0031503  0.017241  0.031609  0.609195  0.149425  0.068966  0.500000   \n",
       "201800-0032268  0.012579  0.022013  0.628931  0.160377  0.119497  0.474843   \n",
       "201800-0032436  0.011834  0.011834  0.573964  0.165680  0.082840  0.372781   \n",
       "201800-0032950  0.010899  0.016349  0.664850  0.174387  0.073569  0.509537   \n",
       "201800-0033077  0.022044  0.012024  0.635271  0.176353  0.094188  0.466934   \n",
       "201800-0033106  0.020704  0.020704  0.627329  0.118012  0.057971  0.538302   \n",
       "201800-0033319  0.024590  0.028689  0.618852  0.229508  0.057377  0.495902   \n",
       "201800-0033537  0.012848  0.019272  0.642398  0.216274  0.100642  0.498929   \n",
       "201800-0033869  0.015464  0.028351  0.636598  0.095361  0.054124  0.481959   \n",
       "201800-0033873  0.034908  0.020534  0.644764  0.154004  0.039014  0.533881   \n",
       "201800-0034343  0.020253  0.035443  0.503797  0.207595  0.113924  0.374684   \n",
       "201800-0034796  0.019108  0.019108  0.573248  0.108280  0.076433  0.496815   \n",
       "201800-0034855  0.020225  0.031461  0.604494  0.094382  0.051685  0.449438   \n",
       "201800-0034857  0.022364  0.031949  0.498403  0.185304  0.079872  0.383387   \n",
       "201800-0034869  0.025773  0.033505  0.548969  0.105670  0.067010  0.430412   \n",
       "\n",
       "                  EPA/DB    Avg_WP  \n",
       "sea_id                              \n",
       "201800-0031503  0.063832  0.443823  \n",
       "201800-0032268  0.032629  0.455222  \n",
       "201800-0032436 -0.104464  0.331076  \n",
       "201800-0032950  0.090963  0.477000  \n",
       "201800-0033077  0.078369  0.493865  \n",
       "201800-0033106  0.207121  0.546386  \n",
       "201800-0033319  0.181702  0.414823  \n",
       "201800-0033537  0.090199  0.543441  \n",
       "201800-0033869  0.067629  0.622450  \n",
       "201800-0033873  0.314948  0.629086  \n",
       "201800-0034343 -0.401759  0.311848  \n",
       "201800-0034796 -0.016901  0.577762  \n",
       "201800-0034855 -0.024426  0.396404  \n",
       "201800-0034857 -0.162522  0.383388  \n",
       "201800-0034869 -0.098381  0.364196  "
      ]
     },
     "execution_count": 128,
     "metadata": {},
     "output_type": "execute_result"
    }
   ],
   "source": [
    "# total dropbacks\n",
    "dbs = qb_passes.groupby(['sea_id'])['epa'].count().reset_index()\n",
    "dbs = dbs.rename(columns={'epa':'dropbacks'})\n",
    "\n",
    "# average columns to get per dropback numbers\n",
    "means = qb_passes.groupby(['sea_id'])['touchdown','interception','complete_pass','qb_hit','sack','success','epa','wp'].mean()\n",
    "\n",
    "means = means.rename(columns={'touchdown':'TD/D','interception':'INT/D','complete_pass':'Comp/D','qb_hit':'Hit/D',\n",
    "                              'sack':'Sack/D','success':'SR/D','epa':'EPA/D','wp':'Avg_WP'})\n",
    "means.tail(15)\n",
    "\n"
   ]
  },
  {
   "cell_type": "code",
   "execution_count": 122,
   "metadata": {},
   "outputs": [],
   "source": [
    "# divide into completions and incompletions\n",
    "qb_comps = qb_passes.loc[qb_passes.complete_pass==1]\n",
    "qb_incomps = qb_passes.loc[(qb_passes.complete_pass==0) & (qb_passes.sack==0)]\n",
    "qb_sacks = qb_passes.loc[(qb_passes.complete_pass==0) & (qb_passes.sack==1)]\n",
    "\n",
    "pass_avgs = qb_comps.groupby(['sea_id'])['yards_gained','yards_after_catch','air_yards'].mean().reset_index()\n",
    "\n",
    "# have to calc expl separately\n",
    "expl_compl = qb_comps.groupby(['sea_id'])['yards_gained'].apply(explosiveness).reset_index()\n",
    "expl_yac = qb_comps.groupby(['sea_id'])['yards_after_catch'].apply(explosiveness).reset_index()\n",
    "expl_ay = qb_comps.groupby(['sea_id'])['air_yards'].apply(explosiveness).reset_index()\n",
    "\n",
    "icay = qb_incomps.groupby(['sea_id'])['air_yards'].mean().reset_index\n",
    "\n"
   ]
  },
  {
   "cell_type": "code",
   "execution_count": null,
   "metadata": {},
   "outputs": [],
   "source": []
  }
 ],
 "metadata": {
  "kernelspec": {
   "display_name": "Python 3",
   "language": "python",
   "name": "python3"
  },
  "language_info": {
   "codemirror_mode": {
    "name": "ipython",
    "version": 3
   },
   "file_extension": ".py",
   "mimetype": "text/x-python",
   "name": "python",
   "nbconvert_exporter": "python",
   "pygments_lexer": "ipython3",
   "version": "3.7.3"
  }
 },
 "nbformat": 4,
 "nbformat_minor": 2
}
